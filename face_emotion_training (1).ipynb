{
 "cells": [
  {
   "cell_type": "code",
   "execution_count": 1,
   "id": "78304a07-1fef-4f72-9b30-0cb4b6563a2c",
   "metadata": {},
   "outputs": [],
   "source": [
    "import tensorflow\n",
    "from tensorflow.keras.utils import to_categorical\n",
    "from tensorflow.keras.preprocessing.image import load_img\n",
    "from tensorflow.keras.models import Sequential\n",
    "from tensorflow.keras.layers import Dense, Conv2D, Dropout, Flatten, MaxPooling2D\n",
    "import os\n",
    "import pandas as pd\n",
    "import numpy as np"
   ]
  },
  {
   "cell_type": "code",
   "execution_count": 2,
   "id": "8e15389a-dfef-4f49-bdc4-056088859bd0",
   "metadata": {},
   "outputs": [
    {
     "name": "stdout",
     "output_type": "stream",
     "text": [
      "C:\\Users\\tript\\.conda\\envs\\tf-gpu\\python.exe\n"
     ]
    }
   ],
   "source": [
    "import sys\n",
    "print(sys.executable)\n"
   ]
  },
  {
   "cell_type": "code",
   "execution_count": 3,
   "id": "d70e0ce0-3b9f-4fa3-86c9-1ec12e75c2ed",
   "metadata": {},
   "outputs": [],
   "source": [
    "TRAIN_DIR = r\"D:\\Facial-Detection-ad-Emotion-Recognition-main\\test\"\n",
    "TEST_DIR = r\"D:\\Facial-Detection-ad-Emotion-Recognition-main\\train\""
   ]
  },
  {
   "cell_type": "code",
   "execution_count": 4,
   "id": "489571d5-c94d-41f5-ad68-24d318efc375",
   "metadata": {},
   "outputs": [
    {
     "name": "stdout",
     "output_type": "stream",
     "text": [
      "Requirement already satisfied: pandas in c:\\users\\tript\\.conda\\envs\\tf-gpu\\lib\\site-packages (2.2.3)\n",
      "Requirement already satisfied: numpy>=1.22.4 in c:\\users\\tript\\appdata\\roaming\\python\\python310\\site-packages (from pandas) (1.26.4)\n",
      "Requirement already satisfied: python-dateutil>=2.8.2 in c:\\users\\tript\\.conda\\envs\\tf-gpu\\lib\\site-packages (from pandas) (2.9.0.post0)\n",
      "Requirement already satisfied: pytz>=2020.1 in c:\\users\\tript\\.conda\\envs\\tf-gpu\\lib\\site-packages (from pandas) (2025.2)\n",
      "Requirement already satisfied: tzdata>=2022.7 in c:\\users\\tript\\.conda\\envs\\tf-gpu\\lib\\site-packages (from pandas) (2025.2)\n",
      "Requirement already satisfied: six>=1.5 in c:\\users\\tript\\appdata\\roaming\\python\\python310\\site-packages (from python-dateutil>=2.8.2->pandas) (1.17.0)\n"
     ]
    }
   ],
   "source": [
    "!pip install pandas\n"
   ]
  },
  {
   "cell_type": "code",
   "execution_count": 5,
   "id": "b4b52b50-87b1-4b57-9d68-024242024731",
   "metadata": {},
   "outputs": [],
   "source": [
    "def createdataframe(dir):\n",
    "    image_paths = []\n",
    "    labels = []\n",
    "    for label in os.listdir(dir):\n",
    "        for imagename in os.listdir(os.path.join(dir,label)):\n",
    "            image_paths.append(os.path.join(dir,label,imagename))\n",
    "            labels.append(label)\n",
    "        print(label, \"completed\")\n",
    "    return image_paths,labels"
   ]
  },
  {
   "cell_type": "code",
   "execution_count": 6,
   "id": "5c424792-f9e9-45d4-a458-892476e50090",
   "metadata": {},
   "outputs": [
    {
     "name": "stdout",
     "output_type": "stream",
     "text": [
      "angry completed\n",
      "disgust completed\n",
      "fear completed\n",
      "happy completed\n",
      "neutral completed\n",
      "sad completed\n",
      "surprise completed\n"
     ]
    }
   ],
   "source": [
    "train = pd.DataFrame()\n",
    "train['image'], train['label'] = createdataframe(TRAIN_DIR)"
   ]
  },
  {
   "cell_type": "code",
   "execution_count": 7,
   "id": "398eddcb-29ef-4d37-a098-ef36d6d405d5",
   "metadata": {},
   "outputs": [
    {
     "name": "stdout",
     "output_type": "stream",
     "text": [
      "                                                  image     label\n",
      "0     D:\\Facial-Detection-ad-Emotion-Recognition-mai...     angry\n",
      "1     D:\\Facial-Detection-ad-Emotion-Recognition-mai...     angry\n",
      "2     D:\\Facial-Detection-ad-Emotion-Recognition-mai...     angry\n",
      "3     D:\\Facial-Detection-ad-Emotion-Recognition-mai...     angry\n",
      "4     D:\\Facial-Detection-ad-Emotion-Recognition-mai...     angry\n",
      "...                                                 ...       ...\n",
      "7173  D:\\Facial-Detection-ad-Emotion-Recognition-mai...  surprise\n",
      "7174  D:\\Facial-Detection-ad-Emotion-Recognition-mai...  surprise\n",
      "7175  D:\\Facial-Detection-ad-Emotion-Recognition-mai...  surprise\n",
      "7176  D:\\Facial-Detection-ad-Emotion-Recognition-mai...  surprise\n",
      "7177  D:\\Facial-Detection-ad-Emotion-Recognition-mai...  surprise\n",
      "\n",
      "[7178 rows x 2 columns]\n"
     ]
    }
   ],
   "source": [
    "print(train)"
   ]
  },
  {
   "cell_type": "code",
   "execution_count": 8,
   "id": "73a04272-cfa6-4e3f-88f8-fb19c7d73dab",
   "metadata": {},
   "outputs": [
    {
     "name": "stdout",
     "output_type": "stream",
     "text": [
      "angry completed\n",
      "disgust completed\n",
      "fear completed\n",
      "happy completed\n",
      "neutral completed\n",
      "sad completed\n",
      "surprise completed\n"
     ]
    }
   ],
   "source": [
    "test = pd.DataFrame()\n",
    "test['image'], test['label'] = createdataframe(TEST_DIR)"
   ]
  },
  {
   "cell_type": "code",
   "execution_count": 9,
   "id": "5072d239-5cbf-475a-86b8-4ef67e211ea5",
   "metadata": {},
   "outputs": [
    {
     "name": "stdout",
     "output_type": "stream",
     "text": [
      "                                                   image     label\n",
      "0      D:\\Facial-Detection-ad-Emotion-Recognition-mai...     angry\n",
      "1      D:\\Facial-Detection-ad-Emotion-Recognition-mai...     angry\n",
      "2      D:\\Facial-Detection-ad-Emotion-Recognition-mai...     angry\n",
      "3      D:\\Facial-Detection-ad-Emotion-Recognition-mai...     angry\n",
      "4      D:\\Facial-Detection-ad-Emotion-Recognition-mai...     angry\n",
      "...                                                  ...       ...\n",
      "28704  D:\\Facial-Detection-ad-Emotion-Recognition-mai...  surprise\n",
      "28705  D:\\Facial-Detection-ad-Emotion-Recognition-mai...  surprise\n",
      "28706  D:\\Facial-Detection-ad-Emotion-Recognition-mai...  surprise\n",
      "28707  D:\\Facial-Detection-ad-Emotion-Recognition-mai...  surprise\n",
      "28708  D:\\Facial-Detection-ad-Emotion-Recognition-mai...  surprise\n",
      "\n",
      "[28709 rows x 2 columns]\n",
      "0        D:\\Facial-Detection-ad-Emotion-Recognition-mai...\n",
      "1        D:\\Facial-Detection-ad-Emotion-Recognition-mai...\n",
      "2        D:\\Facial-Detection-ad-Emotion-Recognition-mai...\n",
      "3        D:\\Facial-Detection-ad-Emotion-Recognition-mai...\n",
      "4        D:\\Facial-Detection-ad-Emotion-Recognition-mai...\n",
      "                               ...                        \n",
      "28704    D:\\Facial-Detection-ad-Emotion-Recognition-mai...\n",
      "28705    D:\\Facial-Detection-ad-Emotion-Recognition-mai...\n",
      "28706    D:\\Facial-Detection-ad-Emotion-Recognition-mai...\n",
      "28707    D:\\Facial-Detection-ad-Emotion-Recognition-mai...\n",
      "28708    D:\\Facial-Detection-ad-Emotion-Recognition-mai...\n",
      "Name: image, Length: 28709, dtype: object\n"
     ]
    }
   ],
   "source": [
    "print(test)\n",
    "print(test['image'])"
   ]
  },
  {
   "cell_type": "code",
   "execution_count": 10,
   "id": "d969f266-8e93-4d4c-8d71-83ec21aea8c9",
   "metadata": {},
   "outputs": [
    {
     "name": "stderr",
     "output_type": "stream",
     "text": [
      "C:\\Users\\tript\\.conda\\envs\\tf-gpu\\lib\\site-packages\\tqdm\\auto.py:21: TqdmWarning: IProgress not found. Please update jupyter and ipywidgets. See https://ipywidgets.readthedocs.io/en/stable/user_install.html\n",
      "  from .autonotebook import tqdm as notebook_tqdm\n"
     ]
    }
   ],
   "source": [
    "from tqdm.auto import tqdm"
   ]
  },
  {
   "cell_type": "code",
   "execution_count": 11,
   "id": "7dc6cf46-5345-44b9-844a-31ab2e6502f0",
   "metadata": {},
   "outputs": [],
   "source": [
    "def extract_features(images):\n",
    "    features = []\n",
    "    for image in tqdm(images):\n",
    "        img = load_img(image,color_mode = 'grayscale')\n",
    "        img = np.array(img)\n",
    "        features.append(img)\n",
    "    features = np.array(features)\n",
    "    features = features.reshape(len(features),48,48,1)\n",
    "    return features\n",
    "    "
   ]
  },
  {
   "cell_type": "code",
   "execution_count": 12,
   "id": "d92018ef-6ee4-42b2-8302-1064799ef184",
   "metadata": {},
   "outputs": [
    {
     "name": "stderr",
     "output_type": "stream",
     "text": [
      "100%|████████████████████████████████████████████████████████████████████████████| 7178/7178 [00:01<00:00, 4873.81it/s]\n"
     ]
    }
   ],
   "source": [
    "train_features = extract_features(train['image']) "
   ]
  },
  {
   "cell_type": "code",
   "execution_count": 13,
   "id": "ba6da779-f614-4ac1-b522-bfb7c946e6aa",
   "metadata": {},
   "outputs": [
    {
     "name": "stderr",
     "output_type": "stream",
     "text": [
      "100%|██████████████████████████████████████████████████████████████████████████| 28709/28709 [00:05<00:00, 4989.68it/s]\n"
     ]
    }
   ],
   "source": [
    "test_features = extract_features(test['image'])"
   ]
  },
  {
   "cell_type": "code",
   "execution_count": 14,
   "id": "6ad92251-03cd-4a7c-bb32-2e7a025dc4a1",
   "metadata": {},
   "outputs": [],
   "source": [
    "x_train = train_features/255.0\n",
    "x_test = test_features/255.0"
   ]
  },
  {
   "cell_type": "code",
   "execution_count": 15,
   "id": "820b45c5-43d1-4a1c-a44b-73b526dab3aa",
   "metadata": {},
   "outputs": [],
   "source": [
    "from sklearn.preprocessing import LabelEncoder"
   ]
  },
  {
   "cell_type": "code",
   "execution_count": 16,
   "id": "9521ff6a-dd17-4ace-b270-213dc183c165",
   "metadata": {},
   "outputs": [
    {
     "data": {
      "text/html": [
       "<style>#sk-container-id-1 {\n",
       "  /* Definition of color scheme common for light and dark mode */\n",
       "  --sklearn-color-text: #000;\n",
       "  --sklearn-color-text-muted: #666;\n",
       "  --sklearn-color-line: gray;\n",
       "  /* Definition of color scheme for unfitted estimators */\n",
       "  --sklearn-color-unfitted-level-0: #fff5e6;\n",
       "  --sklearn-color-unfitted-level-1: #f6e4d2;\n",
       "  --sklearn-color-unfitted-level-2: #ffe0b3;\n",
       "  --sklearn-color-unfitted-level-3: chocolate;\n",
       "  /* Definition of color scheme for fitted estimators */\n",
       "  --sklearn-color-fitted-level-0: #f0f8ff;\n",
       "  --sklearn-color-fitted-level-1: #d4ebff;\n",
       "  --sklearn-color-fitted-level-2: #b3dbfd;\n",
       "  --sklearn-color-fitted-level-3: cornflowerblue;\n",
       "\n",
       "  /* Specific color for light theme */\n",
       "  --sklearn-color-text-on-default-background: var(--sg-text-color, var(--theme-code-foreground, var(--jp-content-font-color1, black)));\n",
       "  --sklearn-color-background: var(--sg-background-color, var(--theme-background, var(--jp-layout-color0, white)));\n",
       "  --sklearn-color-border-box: var(--sg-text-color, var(--theme-code-foreground, var(--jp-content-font-color1, black)));\n",
       "  --sklearn-color-icon: #696969;\n",
       "\n",
       "  @media (prefers-color-scheme: dark) {\n",
       "    /* Redefinition of color scheme for dark theme */\n",
       "    --sklearn-color-text-on-default-background: var(--sg-text-color, var(--theme-code-foreground, var(--jp-content-font-color1, white)));\n",
       "    --sklearn-color-background: var(--sg-background-color, var(--theme-background, var(--jp-layout-color0, #111)));\n",
       "    --sklearn-color-border-box: var(--sg-text-color, var(--theme-code-foreground, var(--jp-content-font-color1, white)));\n",
       "    --sklearn-color-icon: #878787;\n",
       "  }\n",
       "}\n",
       "\n",
       "#sk-container-id-1 {\n",
       "  color: var(--sklearn-color-text);\n",
       "}\n",
       "\n",
       "#sk-container-id-1 pre {\n",
       "  padding: 0;\n",
       "}\n",
       "\n",
       "#sk-container-id-1 input.sk-hidden--visually {\n",
       "  border: 0;\n",
       "  clip: rect(1px 1px 1px 1px);\n",
       "  clip: rect(1px, 1px, 1px, 1px);\n",
       "  height: 1px;\n",
       "  margin: -1px;\n",
       "  overflow: hidden;\n",
       "  padding: 0;\n",
       "  position: absolute;\n",
       "  width: 1px;\n",
       "}\n",
       "\n",
       "#sk-container-id-1 div.sk-dashed-wrapped {\n",
       "  border: 1px dashed var(--sklearn-color-line);\n",
       "  margin: 0 0.4em 0.5em 0.4em;\n",
       "  box-sizing: border-box;\n",
       "  padding-bottom: 0.4em;\n",
       "  background-color: var(--sklearn-color-background);\n",
       "}\n",
       "\n",
       "#sk-container-id-1 div.sk-container {\n",
       "  /* jupyter's `normalize.less` sets `[hidden] { display: none; }`\n",
       "     but bootstrap.min.css set `[hidden] { display: none !important; }`\n",
       "     so we also need the `!important` here to be able to override the\n",
       "     default hidden behavior on the sphinx rendered scikit-learn.org.\n",
       "     See: https://github.com/scikit-learn/scikit-learn/issues/21755 */\n",
       "  display: inline-block !important;\n",
       "  position: relative;\n",
       "}\n",
       "\n",
       "#sk-container-id-1 div.sk-text-repr-fallback {\n",
       "  display: none;\n",
       "}\n",
       "\n",
       "div.sk-parallel-item,\n",
       "div.sk-serial,\n",
       "div.sk-item {\n",
       "  /* draw centered vertical line to link estimators */\n",
       "  background-image: linear-gradient(var(--sklearn-color-text-on-default-background), var(--sklearn-color-text-on-default-background));\n",
       "  background-size: 2px 100%;\n",
       "  background-repeat: no-repeat;\n",
       "  background-position: center center;\n",
       "}\n",
       "\n",
       "/* Parallel-specific style estimator block */\n",
       "\n",
       "#sk-container-id-1 div.sk-parallel-item::after {\n",
       "  content: \"\";\n",
       "  width: 100%;\n",
       "  border-bottom: 2px solid var(--sklearn-color-text-on-default-background);\n",
       "  flex-grow: 1;\n",
       "}\n",
       "\n",
       "#sk-container-id-1 div.sk-parallel {\n",
       "  display: flex;\n",
       "  align-items: stretch;\n",
       "  justify-content: center;\n",
       "  background-color: var(--sklearn-color-background);\n",
       "  position: relative;\n",
       "}\n",
       "\n",
       "#sk-container-id-1 div.sk-parallel-item {\n",
       "  display: flex;\n",
       "  flex-direction: column;\n",
       "}\n",
       "\n",
       "#sk-container-id-1 div.sk-parallel-item:first-child::after {\n",
       "  align-self: flex-end;\n",
       "  width: 50%;\n",
       "}\n",
       "\n",
       "#sk-container-id-1 div.sk-parallel-item:last-child::after {\n",
       "  align-self: flex-start;\n",
       "  width: 50%;\n",
       "}\n",
       "\n",
       "#sk-container-id-1 div.sk-parallel-item:only-child::after {\n",
       "  width: 0;\n",
       "}\n",
       "\n",
       "/* Serial-specific style estimator block */\n",
       "\n",
       "#sk-container-id-1 div.sk-serial {\n",
       "  display: flex;\n",
       "  flex-direction: column;\n",
       "  align-items: center;\n",
       "  background-color: var(--sklearn-color-background);\n",
       "  padding-right: 1em;\n",
       "  padding-left: 1em;\n",
       "}\n",
       "\n",
       "\n",
       "/* Toggleable style: style used for estimator/Pipeline/ColumnTransformer box that is\n",
       "clickable and can be expanded/collapsed.\n",
       "- Pipeline and ColumnTransformer use this feature and define the default style\n",
       "- Estimators will overwrite some part of the style using the `sk-estimator` class\n",
       "*/\n",
       "\n",
       "/* Pipeline and ColumnTransformer style (default) */\n",
       "\n",
       "#sk-container-id-1 div.sk-toggleable {\n",
       "  /* Default theme specific background. It is overwritten whether we have a\n",
       "  specific estimator or a Pipeline/ColumnTransformer */\n",
       "  background-color: var(--sklearn-color-background);\n",
       "}\n",
       "\n",
       "/* Toggleable label */\n",
       "#sk-container-id-1 label.sk-toggleable__label {\n",
       "  cursor: pointer;\n",
       "  display: flex;\n",
       "  width: 100%;\n",
       "  margin-bottom: 0;\n",
       "  padding: 0.5em;\n",
       "  box-sizing: border-box;\n",
       "  text-align: center;\n",
       "  align-items: start;\n",
       "  justify-content: space-between;\n",
       "  gap: 0.5em;\n",
       "}\n",
       "\n",
       "#sk-container-id-1 label.sk-toggleable__label .caption {\n",
       "  font-size: 0.6rem;\n",
       "  font-weight: lighter;\n",
       "  color: var(--sklearn-color-text-muted);\n",
       "}\n",
       "\n",
       "#sk-container-id-1 label.sk-toggleable__label-arrow:before {\n",
       "  /* Arrow on the left of the label */\n",
       "  content: \"▸\";\n",
       "  float: left;\n",
       "  margin-right: 0.25em;\n",
       "  color: var(--sklearn-color-icon);\n",
       "}\n",
       "\n",
       "#sk-container-id-1 label.sk-toggleable__label-arrow:hover:before {\n",
       "  color: var(--sklearn-color-text);\n",
       "}\n",
       "\n",
       "/* Toggleable content - dropdown */\n",
       "\n",
       "#sk-container-id-1 div.sk-toggleable__content {\n",
       "  max-height: 0;\n",
       "  max-width: 0;\n",
       "  overflow: hidden;\n",
       "  text-align: left;\n",
       "  /* unfitted */\n",
       "  background-color: var(--sklearn-color-unfitted-level-0);\n",
       "}\n",
       "\n",
       "#sk-container-id-1 div.sk-toggleable__content.fitted {\n",
       "  /* fitted */\n",
       "  background-color: var(--sklearn-color-fitted-level-0);\n",
       "}\n",
       "\n",
       "#sk-container-id-1 div.sk-toggleable__content pre {\n",
       "  margin: 0.2em;\n",
       "  border-radius: 0.25em;\n",
       "  color: var(--sklearn-color-text);\n",
       "  /* unfitted */\n",
       "  background-color: var(--sklearn-color-unfitted-level-0);\n",
       "}\n",
       "\n",
       "#sk-container-id-1 div.sk-toggleable__content.fitted pre {\n",
       "  /* unfitted */\n",
       "  background-color: var(--sklearn-color-fitted-level-0);\n",
       "}\n",
       "\n",
       "#sk-container-id-1 input.sk-toggleable__control:checked~div.sk-toggleable__content {\n",
       "  /* Expand drop-down */\n",
       "  max-height: 200px;\n",
       "  max-width: 100%;\n",
       "  overflow: auto;\n",
       "}\n",
       "\n",
       "#sk-container-id-1 input.sk-toggleable__control:checked~label.sk-toggleable__label-arrow:before {\n",
       "  content: \"▾\";\n",
       "}\n",
       "\n",
       "/* Pipeline/ColumnTransformer-specific style */\n",
       "\n",
       "#sk-container-id-1 div.sk-label input.sk-toggleable__control:checked~label.sk-toggleable__label {\n",
       "  color: var(--sklearn-color-text);\n",
       "  background-color: var(--sklearn-color-unfitted-level-2);\n",
       "}\n",
       "\n",
       "#sk-container-id-1 div.sk-label.fitted input.sk-toggleable__control:checked~label.sk-toggleable__label {\n",
       "  background-color: var(--sklearn-color-fitted-level-2);\n",
       "}\n",
       "\n",
       "/* Estimator-specific style */\n",
       "\n",
       "/* Colorize estimator box */\n",
       "#sk-container-id-1 div.sk-estimator input.sk-toggleable__control:checked~label.sk-toggleable__label {\n",
       "  /* unfitted */\n",
       "  background-color: var(--sklearn-color-unfitted-level-2);\n",
       "}\n",
       "\n",
       "#sk-container-id-1 div.sk-estimator.fitted input.sk-toggleable__control:checked~label.sk-toggleable__label {\n",
       "  /* fitted */\n",
       "  background-color: var(--sklearn-color-fitted-level-2);\n",
       "}\n",
       "\n",
       "#sk-container-id-1 div.sk-label label.sk-toggleable__label,\n",
       "#sk-container-id-1 div.sk-label label {\n",
       "  /* The background is the default theme color */\n",
       "  color: var(--sklearn-color-text-on-default-background);\n",
       "}\n",
       "\n",
       "/* On hover, darken the color of the background */\n",
       "#sk-container-id-1 div.sk-label:hover label.sk-toggleable__label {\n",
       "  color: var(--sklearn-color-text);\n",
       "  background-color: var(--sklearn-color-unfitted-level-2);\n",
       "}\n",
       "\n",
       "/* Label box, darken color on hover, fitted */\n",
       "#sk-container-id-1 div.sk-label.fitted:hover label.sk-toggleable__label.fitted {\n",
       "  color: var(--sklearn-color-text);\n",
       "  background-color: var(--sklearn-color-fitted-level-2);\n",
       "}\n",
       "\n",
       "/* Estimator label */\n",
       "\n",
       "#sk-container-id-1 div.sk-label label {\n",
       "  font-family: monospace;\n",
       "  font-weight: bold;\n",
       "  display: inline-block;\n",
       "  line-height: 1.2em;\n",
       "}\n",
       "\n",
       "#sk-container-id-1 div.sk-label-container {\n",
       "  text-align: center;\n",
       "}\n",
       "\n",
       "/* Estimator-specific */\n",
       "#sk-container-id-1 div.sk-estimator {\n",
       "  font-family: monospace;\n",
       "  border: 1px dotted var(--sklearn-color-border-box);\n",
       "  border-radius: 0.25em;\n",
       "  box-sizing: border-box;\n",
       "  margin-bottom: 0.5em;\n",
       "  /* unfitted */\n",
       "  background-color: var(--sklearn-color-unfitted-level-0);\n",
       "}\n",
       "\n",
       "#sk-container-id-1 div.sk-estimator.fitted {\n",
       "  /* fitted */\n",
       "  background-color: var(--sklearn-color-fitted-level-0);\n",
       "}\n",
       "\n",
       "/* on hover */\n",
       "#sk-container-id-1 div.sk-estimator:hover {\n",
       "  /* unfitted */\n",
       "  background-color: var(--sklearn-color-unfitted-level-2);\n",
       "}\n",
       "\n",
       "#sk-container-id-1 div.sk-estimator.fitted:hover {\n",
       "  /* fitted */\n",
       "  background-color: var(--sklearn-color-fitted-level-2);\n",
       "}\n",
       "\n",
       "/* Specification for estimator info (e.g. \"i\" and \"?\") */\n",
       "\n",
       "/* Common style for \"i\" and \"?\" */\n",
       "\n",
       ".sk-estimator-doc-link,\n",
       "a:link.sk-estimator-doc-link,\n",
       "a:visited.sk-estimator-doc-link {\n",
       "  float: right;\n",
       "  font-size: smaller;\n",
       "  line-height: 1em;\n",
       "  font-family: monospace;\n",
       "  background-color: var(--sklearn-color-background);\n",
       "  border-radius: 1em;\n",
       "  height: 1em;\n",
       "  width: 1em;\n",
       "  text-decoration: none !important;\n",
       "  margin-left: 0.5em;\n",
       "  text-align: center;\n",
       "  /* unfitted */\n",
       "  border: var(--sklearn-color-unfitted-level-1) 1pt solid;\n",
       "  color: var(--sklearn-color-unfitted-level-1);\n",
       "}\n",
       "\n",
       ".sk-estimator-doc-link.fitted,\n",
       "a:link.sk-estimator-doc-link.fitted,\n",
       "a:visited.sk-estimator-doc-link.fitted {\n",
       "  /* fitted */\n",
       "  border: var(--sklearn-color-fitted-level-1) 1pt solid;\n",
       "  color: var(--sklearn-color-fitted-level-1);\n",
       "}\n",
       "\n",
       "/* On hover */\n",
       "div.sk-estimator:hover .sk-estimator-doc-link:hover,\n",
       ".sk-estimator-doc-link:hover,\n",
       "div.sk-label-container:hover .sk-estimator-doc-link:hover,\n",
       ".sk-estimator-doc-link:hover {\n",
       "  /* unfitted */\n",
       "  background-color: var(--sklearn-color-unfitted-level-3);\n",
       "  color: var(--sklearn-color-background);\n",
       "  text-decoration: none;\n",
       "}\n",
       "\n",
       "div.sk-estimator.fitted:hover .sk-estimator-doc-link.fitted:hover,\n",
       ".sk-estimator-doc-link.fitted:hover,\n",
       "div.sk-label-container:hover .sk-estimator-doc-link.fitted:hover,\n",
       ".sk-estimator-doc-link.fitted:hover {\n",
       "  /* fitted */\n",
       "  background-color: var(--sklearn-color-fitted-level-3);\n",
       "  color: var(--sklearn-color-background);\n",
       "  text-decoration: none;\n",
       "}\n",
       "\n",
       "/* Span, style for the box shown on hovering the info icon */\n",
       ".sk-estimator-doc-link span {\n",
       "  display: none;\n",
       "  z-index: 9999;\n",
       "  position: relative;\n",
       "  font-weight: normal;\n",
       "  right: .2ex;\n",
       "  padding: .5ex;\n",
       "  margin: .5ex;\n",
       "  width: min-content;\n",
       "  min-width: 20ex;\n",
       "  max-width: 50ex;\n",
       "  color: var(--sklearn-color-text);\n",
       "  box-shadow: 2pt 2pt 4pt #999;\n",
       "  /* unfitted */\n",
       "  background: var(--sklearn-color-unfitted-level-0);\n",
       "  border: .5pt solid var(--sklearn-color-unfitted-level-3);\n",
       "}\n",
       "\n",
       ".sk-estimator-doc-link.fitted span {\n",
       "  /* fitted */\n",
       "  background: var(--sklearn-color-fitted-level-0);\n",
       "  border: var(--sklearn-color-fitted-level-3);\n",
       "}\n",
       "\n",
       ".sk-estimator-doc-link:hover span {\n",
       "  display: block;\n",
       "}\n",
       "\n",
       "/* \"?\"-specific style due to the `<a>` HTML tag */\n",
       "\n",
       "#sk-container-id-1 a.estimator_doc_link {\n",
       "  float: right;\n",
       "  font-size: 1rem;\n",
       "  line-height: 1em;\n",
       "  font-family: monospace;\n",
       "  background-color: var(--sklearn-color-background);\n",
       "  border-radius: 1rem;\n",
       "  height: 1rem;\n",
       "  width: 1rem;\n",
       "  text-decoration: none;\n",
       "  /* unfitted */\n",
       "  color: var(--sklearn-color-unfitted-level-1);\n",
       "  border: var(--sklearn-color-unfitted-level-1) 1pt solid;\n",
       "}\n",
       "\n",
       "#sk-container-id-1 a.estimator_doc_link.fitted {\n",
       "  /* fitted */\n",
       "  border: var(--sklearn-color-fitted-level-1) 1pt solid;\n",
       "  color: var(--sklearn-color-fitted-level-1);\n",
       "}\n",
       "\n",
       "/* On hover */\n",
       "#sk-container-id-1 a.estimator_doc_link:hover {\n",
       "  /* unfitted */\n",
       "  background-color: var(--sklearn-color-unfitted-level-3);\n",
       "  color: var(--sklearn-color-background);\n",
       "  text-decoration: none;\n",
       "}\n",
       "\n",
       "#sk-container-id-1 a.estimator_doc_link.fitted:hover {\n",
       "  /* fitted */\n",
       "  background-color: var(--sklearn-color-fitted-level-3);\n",
       "}\n",
       "</style><div id=\"sk-container-id-1\" class=\"sk-top-container\"><div class=\"sk-text-repr-fallback\"><pre>LabelEncoder()</pre><b>In a Jupyter environment, please rerun this cell to show the HTML representation or trust the notebook. <br />On GitHub, the HTML representation is unable to render, please try loading this page with nbviewer.org.</b></div><div class=\"sk-container\" hidden><div class=\"sk-item\"><div class=\"sk-estimator fitted sk-toggleable\"><input class=\"sk-toggleable__control sk-hidden--visually\" id=\"sk-estimator-id-1\" type=\"checkbox\" checked><label for=\"sk-estimator-id-1\" class=\"sk-toggleable__label fitted sk-toggleable__label-arrow\"><div><div>LabelEncoder</div></div><div><a class=\"sk-estimator-doc-link fitted\" rel=\"noreferrer\" target=\"_blank\" href=\"https://scikit-learn.org/1.6/modules/generated/sklearn.preprocessing.LabelEncoder.html\">?<span>Documentation for LabelEncoder</span></a><span class=\"sk-estimator-doc-link fitted\">i<span>Fitted</span></span></div></label><div class=\"sk-toggleable__content fitted\"><pre>LabelEncoder()</pre></div> </div></div></div></div>"
      ],
      "text/plain": [
       "LabelEncoder()"
      ]
     },
     "execution_count": 16,
     "metadata": {},
     "output_type": "execute_result"
    }
   ],
   "source": [
    "le = LabelEncoder()\n",
    "le.fit(train['label'])"
   ]
  },
  {
   "cell_type": "code",
   "execution_count": 17,
   "id": "d307339d-41f6-4eec-baa0-d204c9c78618",
   "metadata": {},
   "outputs": [],
   "source": [
    "y_train = le.transform(train['label'])\n",
    "y_test = le.transform(test['label'])"
   ]
  },
  {
   "cell_type": "code",
   "execution_count": 19,
   "id": "31b664e2-c571-4037-9279-936907675a4e",
   "metadata": {},
   "outputs": [],
   "source": [
    "model = Sequential()\n",
    "# convolutional layers\n",
    "model.add(Conv2D(128, kernel_size=(3,3), activation='relu', input_shape=(48,48,1)))\n",
    "model.add(MaxPooling2D(pool_size=(2,2)))\n",
    "model.add(Dropout(0.4))\n",
    "\n",
    "model.add(Conv2D(256, kernel_size=(3,3), activation='relu'))\n",
    "model.add(MaxPooling2D(pool_size=(2,2)))\n",
    "model.add(Dropout(0.4))\n",
    "\n",
    "model.add(Conv2D(512, kernel_size=(3,3), activation='relu'))\n",
    "model.add(MaxPooling2D(pool_size=(2,2)))\n",
    "model.add(Dropout(0.4))\n",
    "\n",
    "model.add(Conv2D(512, kernel_size=(3,3), activation='relu'))\n",
    "model.add(MaxPooling2D(pool_size=(2,2)))\n",
    "model.add(Dropout(0.4))\n",
    "\n",
    "model.add(Flatten())\n",
    "# fully connected layers\n",
    "model.add(Dense(512, activation='relu'))\n",
    "model.add(Dropout(0.4))\n",
    "model.add(Dense(256, activation='relu'))\n",
    "model.add(Dropout(0.3))\n",
    "# output layer\n",
    "model.add(Dense(7, activation='softmax'))"
   ]
  },
  {
   "cell_type": "code",
   "execution_count": 21,
   "id": "78941eb4-9f25-49fb-99c6-a238e2e631b6",
   "metadata": {},
   "outputs": [],
   "source": [
    "model.compile(optimizer = 'adam', loss = 'sparse_categorical_crossentropy', metrics = ['accuracy'])"
   ]
  },
  {
   "cell_type": "code",
   "execution_count": 22,
   "id": "259ac803-560a-4ad5-af38-f9526fdb83b3",
   "metadata": {},
   "outputs": [
    {
     "name": "stdout",
     "output_type": "stream",
     "text": [
      "Epoch 1/100\n",
      "57/57 [==============================] - 55s 167ms/step - loss: 1.8468 - accuracy: 0.2340 - val_loss: 1.8167 - val_accuracy: 0.2513\n",
      "Epoch 2/100\n",
      "57/57 [==============================] - 8s 144ms/step - loss: 1.8248 - accuracy: 0.2420 - val_loss: 1.8148 - val_accuracy: 0.2513\n",
      "Epoch 3/100\n",
      "57/57 [==============================] - 8s 144ms/step - loss: 1.8218 - accuracy: 0.2456 - val_loss: 1.8160 - val_accuracy: 0.2513\n",
      "Epoch 4/100\n",
      "57/57 [==============================] - 8s 145ms/step - loss: 1.8151 - accuracy: 0.2410 - val_loss: 1.7994 - val_accuracy: 0.2553\n",
      "Epoch 5/100\n",
      "57/57 [==============================] - 8s 143ms/step - loss: 1.8027 - accuracy: 0.2516 - val_loss: 1.7908 - val_accuracy: 0.2597\n",
      "Epoch 6/100\n",
      "57/57 [==============================] - 8s 142ms/step - loss: 1.7943 - accuracy: 0.2522 - val_loss: 1.7951 - val_accuracy: 0.2617\n",
      "Epoch 7/100\n",
      "57/57 [==============================] - 8s 143ms/step - loss: 1.7597 - accuracy: 0.2678 - val_loss: 1.7095 - val_accuracy: 0.2990\n",
      "Epoch 8/100\n",
      "57/57 [==============================] - 8s 142ms/step - loss: 1.7200 - accuracy: 0.2913 - val_loss: 1.6824 - val_accuracy: 0.3160\n",
      "Epoch 9/100\n",
      "57/57 [==============================] - 8s 144ms/step - loss: 1.6859 - accuracy: 0.3218 - val_loss: 1.6302 - val_accuracy: 0.3439\n",
      "Epoch 10/100\n",
      "57/57 [==============================] - 8s 143ms/step - loss: 1.6358 - accuracy: 0.3536 - val_loss: 1.5789 - val_accuracy: 0.3850\n",
      "Epoch 11/100\n",
      "57/57 [==============================] - 8s 143ms/step - loss: 1.5879 - accuracy: 0.3768 - val_loss: 1.5407 - val_accuracy: 0.4023\n",
      "Epoch 12/100\n",
      "57/57 [==============================] - 8s 143ms/step - loss: 1.5505 - accuracy: 0.3966 - val_loss: 1.4888 - val_accuracy: 0.4237\n",
      "Epoch 13/100\n",
      "57/57 [==============================] - 8s 142ms/step - loss: 1.5133 - accuracy: 0.4177 - val_loss: 1.4732 - val_accuracy: 0.4218\n",
      "Epoch 14/100\n",
      "57/57 [==============================] - 8s 143ms/step - loss: 1.4769 - accuracy: 0.4295 - val_loss: 1.4342 - val_accuracy: 0.4413\n",
      "Epoch 15/100\n",
      "57/57 [==============================] - 8s 143ms/step - loss: 1.4597 - accuracy: 0.4387 - val_loss: 1.4063 - val_accuracy: 0.4564\n",
      "Epoch 16/100\n",
      "57/57 [==============================] - 8s 142ms/step - loss: 1.4152 - accuracy: 0.4560 - val_loss: 1.4444 - val_accuracy: 0.4437\n",
      "Epoch 17/100\n",
      "57/57 [==============================] - 8s 143ms/step - loss: 1.4033 - accuracy: 0.4526 - val_loss: 1.3629 - val_accuracy: 0.4712\n",
      "Epoch 18/100\n",
      "57/57 [==============================] - 8s 143ms/step - loss: 1.3621 - accuracy: 0.4730 - val_loss: 1.4083 - val_accuracy: 0.4595\n",
      "Epoch 19/100\n",
      "57/57 [==============================] - 8s 143ms/step - loss: 1.3556 - accuracy: 0.4766 - val_loss: 1.3428 - val_accuracy: 0.4810\n",
      "Epoch 20/100\n",
      "57/57 [==============================] - 8s 143ms/step - loss: 1.3280 - accuracy: 0.4925 - val_loss: 1.3527 - val_accuracy: 0.4789\n",
      "Epoch 21/100\n",
      "57/57 [==============================] - 8s 143ms/step - loss: 1.3159 - accuracy: 0.4933 - val_loss: 1.3300 - val_accuracy: 0.4850\n",
      "Epoch 22/100\n",
      "57/57 [==============================] - 8s 143ms/step - loss: 1.2966 - accuracy: 0.5046 - val_loss: 1.3193 - val_accuracy: 0.4926\n",
      "Epoch 23/100\n",
      "57/57 [==============================] - 8s 143ms/step - loss: 1.2707 - accuracy: 0.5142 - val_loss: 1.3112 - val_accuracy: 0.4987\n",
      "Epoch 24/100\n",
      "57/57 [==============================] - 8s 142ms/step - loss: 1.2853 - accuracy: 0.5047 - val_loss: 1.2995 - val_accuracy: 0.5006\n",
      "Epoch 25/100\n",
      "57/57 [==============================] - 8s 143ms/step - loss: 1.2411 - accuracy: 0.5227 - val_loss: 1.2895 - val_accuracy: 0.5081\n",
      "Epoch 26/100\n",
      "57/57 [==============================] - 8s 144ms/step - loss: 1.2159 - accuracy: 0.5379 - val_loss: 1.2805 - val_accuracy: 0.5083\n",
      "Epoch 27/100\n",
      "57/57 [==============================] - 8s 142ms/step - loss: 1.2003 - accuracy: 0.5408 - val_loss: 1.2863 - val_accuracy: 0.5078\n",
      "Epoch 28/100\n",
      "57/57 [==============================] - 8s 142ms/step - loss: 1.1738 - accuracy: 0.5527 - val_loss: 1.2912 - val_accuracy: 0.5098\n",
      "Epoch 29/100\n",
      "57/57 [==============================] - 8s 144ms/step - loss: 1.1600 - accuracy: 0.5548 - val_loss: 1.3168 - val_accuracy: 0.4979\n",
      "Epoch 30/100\n",
      "57/57 [==============================] - 8s 142ms/step - loss: 1.1957 - accuracy: 0.5486 - val_loss: 1.2887 - val_accuracy: 0.5112\n",
      "Epoch 31/100\n",
      "57/57 [==============================] - 8s 142ms/step - loss: 1.1454 - accuracy: 0.5613 - val_loss: 1.2783 - val_accuracy: 0.5145\n",
      "Epoch 32/100\n",
      "57/57 [==============================] - 8s 142ms/step - loss: 1.1436 - accuracy: 0.5705 - val_loss: 1.2854 - val_accuracy: 0.5185\n",
      "Epoch 33/100\n",
      "57/57 [==============================] - 8s 142ms/step - loss: 1.1260 - accuracy: 0.5758 - val_loss: 1.2677 - val_accuracy: 0.5197\n",
      "Epoch 34/100\n",
      "57/57 [==============================] - 8s 143ms/step - loss: 1.1033 - accuracy: 0.5851 - val_loss: 1.2719 - val_accuracy: 0.5196\n",
      "Epoch 35/100\n",
      "57/57 [==============================] - 8s 142ms/step - loss: 1.0813 - accuracy: 0.5915 - val_loss: 1.2838 - val_accuracy: 0.5221\n",
      "Epoch 36/100\n",
      "57/57 [==============================] - 8s 142ms/step - loss: 1.0639 - accuracy: 0.6030 - val_loss: 1.2683 - val_accuracy: 0.5213\n",
      "Epoch 37/100\n",
      "57/57 [==============================] - 8s 142ms/step - loss: 1.0471 - accuracy: 0.6112 - val_loss: 1.2881 - val_accuracy: 0.5177\n",
      "Epoch 38/100\n",
      "57/57 [==============================] - 8s 142ms/step - loss: 1.0126 - accuracy: 0.6186 - val_loss: 1.2810 - val_accuracy: 0.5230\n",
      "Epoch 39/100\n",
      "57/57 [==============================] - 8s 142ms/step - loss: 1.0124 - accuracy: 0.6140 - val_loss: 1.2838 - val_accuracy: 0.5218\n",
      "Epoch 40/100\n",
      "57/57 [==============================] - 8s 142ms/step - loss: 1.0180 - accuracy: 0.6222 - val_loss: 1.2701 - val_accuracy: 0.5242\n",
      "Epoch 41/100\n",
      "57/57 [==============================] - 8s 143ms/step - loss: 0.9553 - accuracy: 0.6459 - val_loss: 1.2961 - val_accuracy: 0.5248\n",
      "Epoch 42/100\n",
      "57/57 [==============================] - 8s 142ms/step - loss: 0.9751 - accuracy: 0.6372 - val_loss: 1.2700 - val_accuracy: 0.5270\n",
      "Epoch 43/100\n",
      "57/57 [==============================] - 8s 142ms/step - loss: 0.9428 - accuracy: 0.6486 - val_loss: 1.2816 - val_accuracy: 0.5264\n",
      "Epoch 44/100\n",
      "57/57 [==============================] - 8s 142ms/step - loss: 0.9501 - accuracy: 0.6463 - val_loss: 1.2911 - val_accuracy: 0.5282\n",
      "Epoch 45/100\n",
      "57/57 [==============================] - 8s 142ms/step - loss: 0.9097 - accuracy: 0.6604 - val_loss: 1.3110 - val_accuracy: 0.5248\n",
      "Epoch 46/100\n",
      "57/57 [==============================] - 8s 142ms/step - loss: 0.8950 - accuracy: 0.6652 - val_loss: 1.2989 - val_accuracy: 0.5285\n",
      "Epoch 47/100\n",
      "57/57 [==============================] - 8s 142ms/step - loss: 0.8996 - accuracy: 0.6656 - val_loss: 1.2974 - val_accuracy: 0.5287\n",
      "Epoch 48/100\n",
      "57/57 [==============================] - 8s 142ms/step - loss: 0.8825 - accuracy: 0.6697 - val_loss: 1.2804 - val_accuracy: 0.5304\n",
      "Epoch 49/100\n",
      "57/57 [==============================] - 8s 143ms/step - loss: 0.8579 - accuracy: 0.6842 - val_loss: 1.3059 - val_accuracy: 0.5304\n",
      "Epoch 50/100\n",
      "57/57 [==============================] - 8s 143ms/step - loss: 0.8359 - accuracy: 0.6907 - val_loss: 1.3118 - val_accuracy: 0.5324\n",
      "Epoch 51/100\n",
      "57/57 [==============================] - 8s 142ms/step - loss: 0.8266 - accuracy: 0.6871 - val_loss: 1.3290 - val_accuracy: 0.5265\n",
      "Epoch 52/100\n",
      "57/57 [==============================] - 8s 142ms/step - loss: 0.8130 - accuracy: 0.6962 - val_loss: 1.3282 - val_accuracy: 0.5315\n",
      "Epoch 53/100\n",
      "57/57 [==============================] - 8s 142ms/step - loss: 0.7968 - accuracy: 0.7053 - val_loss: 1.3183 - val_accuracy: 0.5351\n",
      "Epoch 54/100\n",
      "57/57 [==============================] - 8s 143ms/step - loss: 0.7989 - accuracy: 0.7014 - val_loss: 1.3068 - val_accuracy: 0.5321\n",
      "Epoch 55/100\n",
      "57/57 [==============================] - 8s 143ms/step - loss: 0.7817 - accuracy: 0.7084 - val_loss: 1.3307 - val_accuracy: 0.5299\n",
      "Epoch 56/100\n",
      "57/57 [==============================] - 8s 144ms/step - loss: 0.7867 - accuracy: 0.7111 - val_loss: 1.3340 - val_accuracy: 0.5301\n",
      "Epoch 57/100\n",
      "57/57 [==============================] - 8s 143ms/step - loss: 0.7309 - accuracy: 0.7324 - val_loss: 1.3544 - val_accuracy: 0.5336\n",
      "Epoch 58/100\n",
      "57/57 [==============================] - 8s 143ms/step - loss: 0.7547 - accuracy: 0.7251 - val_loss: 1.3428 - val_accuracy: 0.5305\n",
      "Epoch 59/100\n",
      "57/57 [==============================] - 8s 143ms/step - loss: 0.7290 - accuracy: 0.7313 - val_loss: 1.3381 - val_accuracy: 0.5362\n",
      "Epoch 60/100\n",
      "57/57 [==============================] - 8s 143ms/step - loss: 0.7154 - accuracy: 0.7419 - val_loss: 1.3655 - val_accuracy: 0.5308\n",
      "Epoch 61/100\n",
      "57/57 [==============================] - 8s 142ms/step - loss: 0.7098 - accuracy: 0.7455 - val_loss: 1.3736 - val_accuracy: 0.5364\n",
      "Epoch 62/100\n",
      "57/57 [==============================] - 8s 143ms/step - loss: 0.6846 - accuracy: 0.7477 - val_loss: 1.3694 - val_accuracy: 0.5357\n",
      "Epoch 63/100\n",
      "57/57 [==============================] - 8s 143ms/step - loss: 0.6888 - accuracy: 0.7497 - val_loss: 1.3744 - val_accuracy: 0.5301\n",
      "Epoch 64/100\n",
      "57/57 [==============================] - 8s 143ms/step - loss: 0.6639 - accuracy: 0.7561 - val_loss: 1.3973 - val_accuracy: 0.5322\n",
      "Epoch 65/100\n",
      "57/57 [==============================] - 8s 143ms/step - loss: 0.6555 - accuracy: 0.7566 - val_loss: 1.3584 - val_accuracy: 0.5363\n",
      "Epoch 66/100\n",
      "57/57 [==============================] - 8s 143ms/step - loss: 0.6758 - accuracy: 0.7583 - val_loss: 1.3614 - val_accuracy: 0.5324\n",
      "Epoch 67/100\n",
      "57/57 [==============================] - 8s 143ms/step - loss: 0.6478 - accuracy: 0.7693 - val_loss: 1.4058 - val_accuracy: 0.5379\n",
      "Epoch 68/100\n",
      "57/57 [==============================] - 8s 143ms/step - loss: 0.6144 - accuracy: 0.7729 - val_loss: 1.3837 - val_accuracy: 0.5353\n",
      "Epoch 69/100\n",
      "57/57 [==============================] - 8s 142ms/step - loss: 0.6467 - accuracy: 0.7657 - val_loss: 1.3980 - val_accuracy: 0.5360\n",
      "Epoch 70/100\n",
      "57/57 [==============================] - 8s 143ms/step - loss: 0.6279 - accuracy: 0.7725 - val_loss: 1.4215 - val_accuracy: 0.5323\n",
      "Epoch 71/100\n",
      "57/57 [==============================] - 8s 144ms/step - loss: 0.6294 - accuracy: 0.7733 - val_loss: 1.4141 - val_accuracy: 0.5336\n",
      "Epoch 72/100\n",
      "57/57 [==============================] - 8s 143ms/step - loss: 0.6293 - accuracy: 0.7749 - val_loss: 1.4101 - val_accuracy: 0.5324\n",
      "Epoch 73/100\n",
      "57/57 [==============================] - 8s 143ms/step - loss: 0.5911 - accuracy: 0.7813 - val_loss: 1.4605 - val_accuracy: 0.5331\n",
      "Epoch 74/100\n",
      "57/57 [==============================] - 8s 143ms/step - loss: 0.5970 - accuracy: 0.7781 - val_loss: 1.4179 - val_accuracy: 0.5226\n",
      "Epoch 75/100\n",
      "57/57 [==============================] - 8s 143ms/step - loss: 0.5876 - accuracy: 0.7926 - val_loss: 1.4121 - val_accuracy: 0.5326\n",
      "Epoch 76/100\n",
      "57/57 [==============================] - 8s 143ms/step - loss: 0.5794 - accuracy: 0.7882 - val_loss: 1.4692 - val_accuracy: 0.5319\n",
      "Epoch 77/100\n",
      "57/57 [==============================] - 8s 143ms/step - loss: 0.5711 - accuracy: 0.7979 - val_loss: 1.4488 - val_accuracy: 0.5332\n",
      "Epoch 78/100\n",
      "57/57 [==============================] - 8s 144ms/step - loss: 0.5484 - accuracy: 0.8066 - val_loss: 1.4913 - val_accuracy: 0.5346\n",
      "Epoch 79/100\n",
      "57/57 [==============================] - 8s 143ms/step - loss: 0.5294 - accuracy: 0.8150 - val_loss: 1.4727 - val_accuracy: 0.5339\n",
      "Epoch 80/100\n",
      "57/57 [==============================] - 8s 144ms/step - loss: 0.5642 - accuracy: 0.7899 - val_loss: 1.4643 - val_accuracy: 0.5335\n",
      "Epoch 81/100\n",
      "57/57 [==============================] - 8s 145ms/step - loss: 0.5539 - accuracy: 0.8023 - val_loss: 1.4856 - val_accuracy: 0.5355\n",
      "Epoch 82/100\n",
      "57/57 [==============================] - 8s 143ms/step - loss: 0.5598 - accuracy: 0.8011 - val_loss: 1.4436 - val_accuracy: 0.5310\n",
      "Epoch 83/100\n",
      "57/57 [==============================] - 8s 143ms/step - loss: 0.5423 - accuracy: 0.8097 - val_loss: 1.4903 - val_accuracy: 0.5316\n",
      "Epoch 84/100\n",
      "57/57 [==============================] - 8s 143ms/step - loss: 0.5175 - accuracy: 0.8213 - val_loss: 1.4866 - val_accuracy: 0.5306\n",
      "Epoch 85/100\n",
      "57/57 [==============================] - 8s 143ms/step - loss: 0.4981 - accuracy: 0.8236 - val_loss: 1.4977 - val_accuracy: 0.5339\n",
      "Epoch 86/100\n",
      "57/57 [==============================] - 8s 143ms/step - loss: 0.4961 - accuracy: 0.8218 - val_loss: 1.4776 - val_accuracy: 0.5322\n",
      "Epoch 87/100\n",
      "57/57 [==============================] - 8s 143ms/step - loss: 0.4732 - accuracy: 0.8295 - val_loss: 1.5058 - val_accuracy: 0.5240\n",
      "Epoch 88/100\n",
      "57/57 [==============================] - 8s 143ms/step - loss: 0.4528 - accuracy: 0.8378 - val_loss: 1.5480 - val_accuracy: 0.5280\n",
      "Epoch 89/100\n",
      "57/57 [==============================] - 8s 143ms/step - loss: 0.4942 - accuracy: 0.8271 - val_loss: 1.5074 - val_accuracy: 0.5266\n",
      "Epoch 90/100\n",
      "57/57 [==============================] - 8s 143ms/step - loss: 0.4796 - accuracy: 0.8284 - val_loss: 1.5152 - val_accuracy: 0.5271\n",
      "Epoch 91/100\n",
      "57/57 [==============================] - 8s 143ms/step - loss: 0.4824 - accuracy: 0.8271 - val_loss: 1.5055 - val_accuracy: 0.5335\n",
      "Epoch 92/100\n",
      "57/57 [==============================] - 8s 143ms/step - loss: 0.4529 - accuracy: 0.8405 - val_loss: 1.5435 - val_accuracy: 0.5287\n",
      "Epoch 93/100\n",
      "57/57 [==============================] - 8s 144ms/step - loss: 0.4391 - accuracy: 0.8455 - val_loss: 1.5843 - val_accuracy: 0.5314\n",
      "Epoch 94/100\n",
      "57/57 [==============================] - 8s 143ms/step - loss: 0.4412 - accuracy: 0.8463 - val_loss: 1.5458 - val_accuracy: 0.5330\n",
      "Epoch 95/100\n",
      "57/57 [==============================] - 8s 143ms/step - loss: 0.4470 - accuracy: 0.8422 - val_loss: 1.5656 - val_accuracy: 0.5299\n",
      "Epoch 96/100\n",
      "57/57 [==============================] - 8s 143ms/step - loss: 0.4299 - accuracy: 0.8476 - val_loss: 1.5532 - val_accuracy: 0.5301\n",
      "Epoch 97/100\n",
      "57/57 [==============================] - 8s 143ms/step - loss: 0.4241 - accuracy: 0.8462 - val_loss: 1.5581 - val_accuracy: 0.5325\n",
      "Epoch 98/100\n",
      "57/57 [==============================] - 8s 143ms/step - loss: 0.4129 - accuracy: 0.8575 - val_loss: 1.5858 - val_accuracy: 0.5315\n",
      "Epoch 99/100\n",
      "57/57 [==============================] - 8s 143ms/step - loss: 0.4251 - accuracy: 0.8509 - val_loss: 1.5277 - val_accuracy: 0.5344\n",
      "Epoch 100/100\n",
      "57/57 [==============================] - 8s 143ms/step - loss: 0.4138 - accuracy: 0.8559 - val_loss: 1.6065 - val_accuracy: 0.5320\n"
     ]
    },
    {
     "data": {
      "text/plain": [
       "<keras.callbacks.History at 0x23eb72577f0>"
      ]
     },
     "execution_count": 22,
     "metadata": {},
     "output_type": "execute_result"
    }
   ],
   "source": [
    "model.fit(x= x_train,y = y_train, batch_size = 128, epochs = 100, validation_data = (x_test,y_test))"
   ]
  },
  {
   "cell_type": "code",
   "execution_count": 23,
   "id": "050a9a01-e574-4b8f-bc01-01b31e7fe71a",
   "metadata": {},
   "outputs": [],
   "source": [
    "model.compile(optimizer='adam', loss='sparse_categorical_crossentropy', metrics=['accuracy'])"
   ]
  },
  {
   "cell_type": "code",
   "execution_count": 24,
   "id": "0c99c4d9-0255-4a3c-b11a-1c692c1a8281",
   "metadata": {},
   "outputs": [],
   "source": [
    "from keras.models import model_from_json"
   ]
  },
  {
   "cell_type": "code",
   "execution_count": 25,
   "id": "2d34303d-0966-4dc2-bf46-1d13e600e1df",
   "metadata": {},
   "outputs": [],
   "source": [
    "model_json = model.to_json()\n",
    "with open(\"emotiondetector.json\",'w') as json_file:\n",
    "    json_file.write(model_json)\n",
    "model.save(\"emotiondetector.h5\")"
   ]
  },
  {
   "cell_type": "code",
   "execution_count": 26,
   "id": "5c695df4-9311-476d-8459-036b2230fc63",
   "metadata": {},
   "outputs": [],
   "source": [
    "json_file = open(\"emotiondetector.json\", \"r\")\n",
    "model_json = json_file.read()\n",
    "json_file.close()\n",
    "model = model_from_json(model_json)\n",
    "model.load_weights(\"emotiondetector.h5\")"
   ]
  },
  {
   "cell_type": "code",
   "execution_count": 27,
   "id": "12427285-7b21-48e2-9b36-42b0a3aae938",
   "metadata": {},
   "outputs": [],
   "source": [
    "label = ['angry','disgust','fear','happy','neutral','sad','surprise']"
   ]
  },
  {
   "cell_type": "code",
   "execution_count": 28,
   "id": "44e07ad1-80f1-4d12-9b41-d89d82ee1fc5",
   "metadata": {},
   "outputs": [],
   "source": [
    "def ef(image):\n",
    "    img = load_img(image,color_mode='grayscale')\n",
    "    feature = np.array(img)\n",
    "    feature = feature.reshape(1,48,48,1)\n",
    "    return feature/255.0"
   ]
  },
  {
   "cell_type": "code",
   "execution_count": 29,
   "id": "4ca3734e-c6e4-4f11-840d-5c681eba0db2",
   "metadata": {},
   "outputs": [
    {
     "name": "stdout",
     "output_type": "stream",
     "text": [
      "original image is of sad\n",
      "1/1 [==============================] - 0s 489ms/step\n",
      "model prediction is  sad\n"
     ]
    }
   ],
   "source": [
    "image =r\"D:\\Facial-Detection-ad-Emotion-Recognition-main\\test\\sad\\PrivateTest_2552088.jpg\"\n",
    "print(\"original image is of sad\")\n",
    "img = ef(image)\n",
    "pred = model.predict(img)\n",
    "pred_label = label[pred.argmax()]\n",
    "print(\"model prediction is \",pred_label)"
   ]
  },
  {
   "cell_type": "code",
   "execution_count": 34,
   "id": "aafd0fee-942f-4ba4-851d-18c382eb5be7",
   "metadata": {},
   "outputs": [],
   "source": [
    "import matplotlib.pyplot as plt\n",
    "%matplotlib inline"
   ]
  },
  {
   "cell_type": "code",
   "execution_count": 35,
   "id": "9668ecb7-66a8-4bce-9f8a-5516a591709f",
   "metadata": {},
   "outputs": [
    {
     "name": "stdout",
     "output_type": "stream",
     "text": [
      "original image is of sad\n",
      "1/1 [==============================] - 0s 23ms/step\n",
      "model prediction is  sad\n"
     ]
    },
    {
     "data": {
      "text/plain": [
       "<matplotlib.image.AxesImage at 0x23f179fb070>"
      ]
     },
     "execution_count": 35,
     "metadata": {},
     "output_type": "execute_result"
    },
    {
     "data": {
      "image/png": "[encoded data removed]",
      "text/plain": [
       "<Figure size 640x480 with 1 Axes>"
      ]
     },
     "metadata": {},
     "output_type": "display_data"
    }
   ],
   "source": [
    "image = r\"D:\\Facial-Detection-ad-Emotion-Recognition-main\\test\\sad\\PrivateTest_2552088.jpg\"\n",
    "print(\"original image is of sad\")\n",
    "img = ef(image)\n",
    "pred = model.predict(img)\n",
    "pred_label = label[pred.argmax()]\n",
    "print(\"model prediction is \",pred_label)\n",
    "plt.imshow(img.reshape(48,48),cmap='gray')"
   ]
  },
  {
   "cell_type": "code",
   "execution_count": 38,
   "id": "24f06790-c26f-4ea5-9cdd-2a0c8920d951",
   "metadata": {},
   "outputs": [
    {
     "name": "stdout",
     "output_type": "stream",
     "text": [
      "original image is of fear\n",
      "1/1 [==============================] - 0s 17ms/step\n",
      "model prediction is  fear\n"
     ]
    },
    {
     "data": {
      "text/plain": [
       "<matplotlib.image.AxesImage at 0x2400e7984f0>"
      ]
     },
     "execution_count": 38,
     "metadata": {},
     "output_type": "execute_result"
    },
    {
     "data": {
      "image/png": "[encoded data removed]",
      "text/plain": [
       "<Figure size 640x480 with 1 Axes>"
      ]
     },
     "metadata": {},
     "output_type": "display_data"
    }
   ],
   "source": [
    "image = r\"D:\\Facial-Detection-ad-Emotion-Recognition-main\\train\\fear\\Training_308765.jpg\"\n",
    "print(\"original image is of fear\")\n",
    "img = ef(image)\n",
    "pred = model.predict(img)\n",
    "pred_label = label[pred.argmax()]\n",
    "print(\"model prediction is \",pred_label)\n",
    "plt.imshow(img.reshape(48,48),cmap='gray')"
   ]
  },
  {
   "cell_type": "code",
   "execution_count": 39,
   "id": "ba3f5caa-5698-4a7d-9e5c-366b1c029f42",
   "metadata": {},
   "outputs": [
    {
     "name": "stdout",
     "output_type": "stream",
     "text": [
      "original image is of disgust\n",
      "1/1 [==============================] - 0s 21ms/step\n",
      "model prediction is  disgust\n"
     ]
    },
    {
     "data": {
      "text/plain": [
       "<matplotlib.image.AxesImage at 0x2400e796ef0>"
      ]
     },
     "execution_count": 39,
     "metadata": {},
     "output_type": "execute_result"
    },
    {
     "data": {
      "image/png": "[encoded data removed]",
      "text/plain": [
       "<Figure size 640x480 with 1 Axes>"
      ]
     },
     "metadata": {},
     "output_type": "display_data"
    }
   ],
   "source": [
    "image = r\"D:\\Facial-Detection-ad-Emotion-Recognition-main\\train\\disgust\\Training_680349.jpg\"\n",
    "print(\"original image is of disgust\")\n",
    "img = ef(image)\n",
    "pred = model.predict(img)\n",
    "pred_label = label[pred.argmax()]\n",
    "print(\"model prediction is \",pred_label)\n",
    "plt.imshow(img.reshape(48,48),cmap='gray')"
   ]
  },
  {
   "cell_type": "code",
   "execution_count": 40,
   "id": "16fc836d-bd38-4347-9b5d-f2beb3eca3ee",
   "metadata": {},
   "outputs": [
    {
     "name": "stdout",
     "output_type": "stream",
     "text": [
      "original image is of happy\n",
      "1/1 [==============================] - 0s 16ms/step\n",
      "model prediction is  happy\n"
     ]
    },
    {
     "data": {
      "text/plain": [
       "<matplotlib.image.AxesImage at 0x2400e8617b0>"
      ]
     },
     "execution_count": 40,
     "metadata": {},
     "output_type": "execute_result"
    },
    {
     "data": {
      "image/png": "[encoded data removed]",
      "text/plain": [
       "<Figure size 640x480 with 1 Axes>"
      ]
     },
     "metadata": {},
     "output_type": "display_data"
    }
   ],
   "source": [
    "image = r\"D:\\Facial-Detection-ad-Emotion-Recognition-main\\train\\happy\\Training_430147.jpg\"\n",
    "print(\"original image is of happy\")\n",
    "img = ef(image)\n",
    "pred = model.predict(img)\n",
    "pred_label = label[pred.argmax()]\n",
    "print(\"model prediction is \",pred_label)\n",
    "plt.imshow(img.reshape(48,48),cmap='gray')"
   ]
  },
  {
   "cell_type": "code",
   "execution_count": 42,
   "id": "31a3090d-6f82-4db3-a1f6-c24ac1092448",
   "metadata": {},
   "outputs": [
    {
     "name": "stdout",
     "output_type": "stream",
     "text": [
      "original image is of surprise\n",
      "1/1 [==============================] - 0s 19ms/step\n",
      "model prediction is  surprise\n"
     ]
    },
    {
     "data": {
      "text/plain": [
       "<matplotlib.image.AxesImage at 0x2400e905c90>"
      ]
     },
     "execution_count": 42,
     "metadata": {},
     "output_type": "execute_result"
    },
    {
     "data": {
      "image/png": "[encoded data removed]",
      "text/plain": [
       "<Figure size 640x480 with 1 Axes>"
      ]
     },
     "metadata": {},
     "output_type": "display_data"
    }
   ],
   "source": [
    "image = r\"D:\\Facial-Detection-ad-Emotion-Recognition-main\\train\\surprise\\Training_336818.jpg\"\n",
    "print(\"original image is of surprise\")\n",
    "img = ef(image)\n",
    "pred = model.predict(img)\n",
    "pred_label = label[pred.argmax()]\n",
    "print(\"model prediction is \",pred_label)\n",
    "plt.imshow(img.reshape(48,48),cmap='gray')"
   ]
  },
  {
   "cell_type": "code",
   "execution_count": null,
   "id": "6cf1270d-6a1c-4e5f-90eb-831fd5b9d677",
   "metadata": {},
   "outputs": [],
   "source": []
  }
 ],
 "metadata": {
  "kernelspec": {
   "display_name": "Python (TF-GPU)",
   "language": "python",
   "name": "tf-gpu"
  },
  "language_info": {
   "codemirror_mode": {
    "name": "ipython",
    "version": 3
   },
   "file_extension": ".py",
   "mimetype": "text/x-python",
   "name": "python",
   "nbconvert_exporter": "python",
   "pygments_lexer": "ipython3",
   "version": "3.10.16"
  }
 },
 "nbformat": 4,
 "nbformat_minor": 5
}
